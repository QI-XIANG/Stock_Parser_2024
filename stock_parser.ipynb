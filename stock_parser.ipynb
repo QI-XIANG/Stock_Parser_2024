{
 "cells": [
  {
   "cell_type": "code",
   "execution_count": 48,
   "metadata": {},
   "outputs": [],
   "source": [
    "import requests as req\n",
    "from bs4 import BeautifulSoup\n",
    "# 指定要抓取的網頁URL\n",
    "def stock_parser(stock_code):\n",
    "    url = \"https://tw.stock.yahoo.com/quote/\"+stock_code+\".TW\"\n",
    "    headers = {'User-Agent': 'Mozilla/5.0 (Macintosh; Intel Mac OS X 10_11_5) AppleWebKit/537.36 (KHTML, like Gecko) Chrome/50.0.2661.102 Safari/537.36'}\n",
    "    # 使用requests.get() 來得到網頁回傳內容\n",
    "    r = req.get(url,headers=headers)\n",
    "    stock_overview = []\n",
    "    # request.get()回傳的是一個物件 \n",
    "    # 若抓成功(即r.status_code==200), 則網頁原始碼會放在物件的text屬性, 我們把它存在一個變數 'web_content'\n",
    "    web_content = r.text\n",
    "    soup = BeautifulSoup(web_content, 'html.parser')\n",
    "    stock_detail = soup.find_all('li', class_=\"price-detail-item\")\n",
    "    stock_title = soup.find_all('h1', class_=\"C($c-link-text)\")[0].text + \"(\" + stock_code + \")\"\n",
    "    stock_overview.append(stock_title)\n",
    "    for x in stock_detail:\n",
    "        stock_overview.append(x.find_all('span')[1].text)\n",
    "    return stock_overview\n",
    "\n",
    "    "
   ]
  },
  {
   "cell_type": "code",
   "execution_count": 44,
   "metadata": {},
   "outputs": [],
   "source": [
    "column_names = [\"名稱\", \"成交\", \"開盤\", \"最高\", \"最低\", \"均價\", \"成交金額(億)\", \"昨收\", \"漲跌幅\", \"漲跌\", \"總量\", \"昨量\", \"振幅\"]"
   ]
  },
  {
   "cell_type": "code",
   "execution_count": 57,
   "metadata": {},
   "outputs": [],
   "source": [
    "stock_codes = [\"%5ETWII\", \"5880\", \"00679B\", \"00713\", \"00907\"]"
   ]
  },
  {
   "cell_type": "code",
   "execution_count": 49,
   "metadata": {},
   "outputs": [],
   "source": [
    "stock_overview = stock_parser(\"5880\")"
   ]
  },
  {
   "cell_type": "code",
   "execution_count": 50,
   "metadata": {},
   "outputs": [
    {
     "data": {
      "text/plain": [
       "['合庫金(5880)',\n",
       " '26.05',\n",
       " '26.00',\n",
       " '26.10',\n",
       " '25.95',\n",
       " '26.03',\n",
       " '2.57',\n",
       " '26.10',\n",
       " '0.19%',\n",
       " '0.05',\n",
       " '9,889',\n",
       " '8,194',\n",
       " '0.57%']"
      ]
     },
     "execution_count": 50,
     "metadata": {},
     "output_type": "execute_result"
    }
   ],
   "source": [
    "stock_overview"
   ]
  },
  {
   "cell_type": "code",
   "execution_count": 58,
   "metadata": {},
   "outputs": [],
   "source": [
    "stock_datas = []\n",
    "for stock_code in stock_codes:\n",
    "    stock_overview = stock_parser(stock_code)\n",
    "    stock_datas.append(stock_overview)"
   ]
  },
  {
   "cell_type": "code",
   "execution_count": 60,
   "metadata": {},
   "outputs": [
    {
     "data": {
      "text/html": [
       "<div>\n",
       "<style scoped>\n",
       "    .dataframe tbody tr th:only-of-type {\n",
       "        vertical-align: middle;\n",
       "    }\n",
       "\n",
       "    .dataframe tbody tr th {\n",
       "        vertical-align: top;\n",
       "    }\n",
       "\n",
       "    .dataframe thead th {\n",
       "        text-align: right;\n",
       "    }\n",
       "</style>\n",
       "<table border=\"1\" class=\"dataframe\">\n",
       "  <thead>\n",
       "    <tr style=\"text-align: right;\">\n",
       "      <th></th>\n",
       "      <th>名稱</th>\n",
       "      <th>成交</th>\n",
       "      <th>開盤</th>\n",
       "      <th>最高</th>\n",
       "      <th>最低</th>\n",
       "      <th>均價</th>\n",
       "      <th>成交金額(億)</th>\n",
       "      <th>昨收</th>\n",
       "      <th>漲跌幅</th>\n",
       "      <th>漲跌</th>\n",
       "      <th>總量</th>\n",
       "      <th>昨量</th>\n",
       "      <th>振幅</th>\n",
       "    </tr>\n",
       "  </thead>\n",
       "  <tbody>\n",
       "    <tr>\n",
       "      <th>0</th>\n",
       "      <td>加權指數(%5ETWII)</td>\n",
       "      <td>20,736.57</td>\n",
       "      <td>20,772.79</td>\n",
       "      <td>20,825.04</td>\n",
       "      <td>20,713.87</td>\n",
       "      <td>-</td>\n",
       "      <td>4,796.99</td>\n",
       "      <td>20,753.22</td>\n",
       "      <td>0.08%</td>\n",
       "      <td>16.65</td>\n",
       "      <td>8,800,319</td>\n",
       "      <td>0</td>\n",
       "      <td>0.54%</td>\n",
       "    </tr>\n",
       "    <tr>\n",
       "      <th>1</th>\n",
       "      <td>合庫金(5880)</td>\n",
       "      <td>26.05</td>\n",
       "      <td>26.00</td>\n",
       "      <td>26.10</td>\n",
       "      <td>25.95</td>\n",
       "      <td>26.03</td>\n",
       "      <td>2.57</td>\n",
       "      <td>26.10</td>\n",
       "      <td>0.19%</td>\n",
       "      <td>0.05</td>\n",
       "      <td>9,889</td>\n",
       "      <td>8,194</td>\n",
       "      <td>0.57%</td>\n",
       "    </tr>\n",
       "    <tr>\n",
       "      <th>2</th>\n",
       "      <td>元大美債20年(00679B)</td>\n",
       "      <td>28.88</td>\n",
       "      <td>28.85</td>\n",
       "      <td>28.89</td>\n",
       "      <td>28.82</td>\n",
       "      <td>28.86</td>\n",
       "      <td>21.84</td>\n",
       "      <td>28.95</td>\n",
       "      <td>0.24%</td>\n",
       "      <td>0.07</td>\n",
       "      <td>75,680</td>\n",
       "      <td>106,788</td>\n",
       "      <td>0.24%</td>\n",
       "    </tr>\n",
       "    <tr>\n",
       "      <th>3</th>\n",
       "      <td>元大台灣高息低波(00713)</td>\n",
       "      <td>55.35</td>\n",
       "      <td>55.15</td>\n",
       "      <td>55.40</td>\n",
       "      <td>55.05</td>\n",
       "      <td>55.26</td>\n",
       "      <td>1.86</td>\n",
       "      <td>55.20</td>\n",
       "      <td>0.27%</td>\n",
       "      <td>0.15</td>\n",
       "      <td>3,373</td>\n",
       "      <td>3,322</td>\n",
       "      <td>0.63%</td>\n",
       "    </tr>\n",
       "    <tr>\n",
       "      <th>4</th>\n",
       "      <td>永豐優息存股(00907)</td>\n",
       "      <td>15.16</td>\n",
       "      <td>15.08</td>\n",
       "      <td>15.18</td>\n",
       "      <td>15.06</td>\n",
       "      <td>15.12</td>\n",
       "      <td>0.221</td>\n",
       "      <td>15.15</td>\n",
       "      <td>0.07%</td>\n",
       "      <td>0.01</td>\n",
       "      <td>1,464</td>\n",
       "      <td>1,875</td>\n",
       "      <td>0.79%</td>\n",
       "    </tr>\n",
       "  </tbody>\n",
       "</table>\n",
       "</div>"
      ],
      "text/plain": [
       "                名稱         成交         開盤         最高         最低     均價  \\\n",
       "0    加權指數(%5ETWII)  20,736.57  20,772.79  20,825.04  20,713.87      -   \n",
       "1        合庫金(5880)      26.05      26.00      26.10      25.95  26.03   \n",
       "2  元大美債20年(00679B)      28.88      28.85      28.89      28.82  28.86   \n",
       "3  元大台灣高息低波(00713)      55.35      55.15      55.40      55.05  55.26   \n",
       "4    永豐優息存股(00907)      15.16      15.08      15.18      15.06  15.12   \n",
       "\n",
       "    成交金額(億)         昨收    漲跌幅     漲跌         總量       昨量     振幅  \n",
       "0  4,796.99  20,753.22  0.08%  16.65  8,800,319        0  0.54%  \n",
       "1      2.57      26.10  0.19%   0.05      9,889    8,194  0.57%  \n",
       "2     21.84      28.95  0.24%   0.07     75,680  106,788  0.24%  \n",
       "3      1.86      55.20  0.27%   0.15      3,373    3,322  0.63%  \n",
       "4     0.221      15.15  0.07%   0.01      1,464    1,875  0.79%  "
      ]
     },
     "execution_count": 60,
     "metadata": {},
     "output_type": "execute_result"
    }
   ],
   "source": [
    "import pandas as pd\n",
    "df = pd.DataFrame(columns=column_names, data=stock_datas)\n",
    "df"
   ]
  }
 ],
 "metadata": {
  "kernelspec": {
   "display_name": "Python 3",
   "language": "python",
   "name": "python3"
  },
  "language_info": {
   "codemirror_mode": {
    "name": "ipython",
    "version": 3
   },
   "file_extension": ".py",
   "mimetype": "text/x-python",
   "name": "python",
   "nbconvert_exporter": "python",
   "pygments_lexer": "ipython3",
   "version": "3.8.1"
  }
 },
 "nbformat": 4,
 "nbformat_minor": 2
}
