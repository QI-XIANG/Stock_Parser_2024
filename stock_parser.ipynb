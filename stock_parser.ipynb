{
 "cells": [
  {
   "cell_type": "code",
   "execution_count": 15,
   "metadata": {},
   "outputs": [],
   "source": [
    "import requests as req\n",
    "from bs4 import BeautifulSoup\n",
    "# 指定要抓取的網頁URL\n",
    "def stock_parser(stock_code):\n",
    "    url = \"https://tw.stock.yahoo.com/quote/\"+stock_code+\".TW\"\n",
    "    headers = {'User-Agent': 'Mozilla/5.0 (Macintosh; Intel Mac OS X 10_11_5) AppleWebKit/537.36 (KHTML, like Gecko) Chrome/50.0.2661.102 Safari/537.36'}\n",
    "    # 使用requests.get() 來得到網頁回傳內容\n",
    "    r = req.get(url,headers=headers)\n",
    "    stock_overview = []\n",
    "    # request.get()回傳的是一個物件 \n",
    "    # 若抓成功(即r.status_code==200), 則網頁原始碼會放在物件的text屬性, 我們把它存在一個變數 'web_content'\n",
    "    web_content = r.text\n",
    "    soup = BeautifulSoup(web_content, 'html.parser')\n",
    "    stock_detail = soup.find_all('li', class_=\"price-detail-item\")\n",
    "    stock_title = soup.find_all('h1', class_=\"C($c-link-text)\")[0].text + \"(\" + stock_code + \")\"\n",
    "    stock_overview.append(stock_title)\n",
    "    for x in stock_detail:\n",
    "        stock_overview.append(x.find_all('span')[1].text)\n",
    "    \n",
    "    if(stock_overview[7]>stock_overview[1]):\n",
    "        stock_overview[0] = soup.find_all('h1', class_=\"C($c-link-text)\")[0].text + \"(\" + stock_code + \")\" + \" (跌)\"\n",
    "    elif(stock_overview[7]<stock_overview[1]):\n",
    "        stock_overview[0] = soup.find_all('h1', class_=\"C($c-link-text)\")[0].text + \"(\" + stock_code + \")\" + \" (漲)\"\n",
    "    else:\n",
    "        stock_overview[0] = soup.find_all('h1', class_=\"C($c-link-text)\")[0].text + \"(\" + stock_code + \")\" + \" (平盤)\"\n",
    "\n",
    "    #print(stock_overview)\n",
    "    \n",
    "    return stock_overview\n",
    "\n",
    "    "
   ]
  },
  {
   "cell_type": "code",
   "execution_count": 18,
   "metadata": {},
   "outputs": [],
   "source": [
    "column_names = [\"名稱\", \"成交\", \"開盤\", \"最高\", \"最低\", \"均價\", \"成交金額(億)\", \"昨收\", \"漲跌幅\", \"漲跌\", \"總量\", \"昨量\", \"振幅\"]"
   ]
  },
  {
   "cell_type": "code",
   "execution_count": 3,
   "metadata": {},
   "outputs": [],
   "source": [
    "stock_codes = [\"%5ETWII\", \"5880\", \"00679B\", \"00713\", \"00907\"]"
   ]
  },
  {
   "cell_type": "code",
   "execution_count": 16,
   "metadata": {},
   "outputs": [
    {
     "name": "stdout",
     "output_type": "stream",
     "text": [
      "['合庫金(5880) (跌)', '25.60', '25.65', '25.90', '25.45', '25.59', '5.90', '25.85', '0.97%', '0.25', '23,077', '10,187', '1.74%']\n"
     ]
    }
   ],
   "source": [
    "stock_overview = stock_parser(\"5880\")"
   ]
  },
  {
   "cell_type": "code",
   "execution_count": 17,
   "metadata": {},
   "outputs": [
    {
     "data": {
      "text/plain": [
       "['合庫金(5880) (跌)',\n",
       " '25.60',\n",
       " '25.65',\n",
       " '25.90',\n",
       " '25.45',\n",
       " '25.59',\n",
       " '5.90',\n",
       " '25.85',\n",
       " '0.97%',\n",
       " '0.25',\n",
       " '23,077',\n",
       " '10,187',\n",
       " '1.74%']"
      ]
     },
     "execution_count": 17,
     "metadata": {},
     "output_type": "execute_result"
    }
   ],
   "source": [
    "stock_overview"
   ]
  },
  {
   "cell_type": "code",
   "execution_count": 20,
   "metadata": {},
   "outputs": [
    {
     "name": "stdout",
     "output_type": "stream",
     "text": [
      "['加權指數(%5ETWII) (跌)', '19,527.12', '19,992.06', '19,992.06', '19,291.88', '-', '7,059.98', '20,301.20', '3.81%', '774.08', '14,122,522', '0', '3.45%']\n",
      "['合庫金(5880) (跌)', '25.60', '25.65', '25.90', '25.45', '25.59', '5.90', '25.85', '0.97%', '0.25', '23,077', '10,187', '1.74%']\n",
      "['元大美債20年(00679B) (漲)', '29.01', '28.76', '29.28', '28.75', '29.05', '23.00', '28.78', '0.80%', '0.23', '79,172', '31,600', '1.84%']\n",
      "['元大台灣高息低波(00713) (跌)', '54.40', '54.85', '54.85', '53.60', '54.29', '6.42', '55.20', '1.45%', '0.80', '11,829', '5,262', '2.26%']\n",
      "['永豐優息存股(00907) (跌)', '14.86', '14.96', '15.00', '14.76', '14.89', '0.970', '15.01', '1.00%', '0.15', '6,513', '3,053', '1.60%']\n"
     ]
    }
   ],
   "source": [
    "stock_datas = []\n",
    "for stock_code in stock_codes:\n",
    "    stock_overview = stock_parser(stock_code)\n",
    "    stock_datas.append(stock_overview)"
   ]
  },
  {
   "cell_type": "code",
   "execution_count": 21,
   "metadata": {},
   "outputs": [
    {
     "data": {
      "text/html": [
       "<div>\n",
       "<style scoped>\n",
       "    .dataframe tbody tr th:only-of-type {\n",
       "        vertical-align: middle;\n",
       "    }\n",
       "\n",
       "    .dataframe tbody tr th {\n",
       "        vertical-align: top;\n",
       "    }\n",
       "\n",
       "    .dataframe thead th {\n",
       "        text-align: right;\n",
       "    }\n",
       "</style>\n",
       "<table border=\"1\" class=\"dataframe\">\n",
       "  <thead>\n",
       "    <tr style=\"text-align: right;\">\n",
       "      <th></th>\n",
       "      <th>名稱</th>\n",
       "      <th>成交</th>\n",
       "      <th>開盤</th>\n",
       "      <th>最高</th>\n",
       "      <th>最低</th>\n",
       "      <th>均價</th>\n",
       "      <th>成交金額(億)</th>\n",
       "      <th>昨收</th>\n",
       "      <th>漲跌幅</th>\n",
       "      <th>漲跌</th>\n",
       "      <th>總量</th>\n",
       "      <th>昨量</th>\n",
       "      <th>振幅</th>\n",
       "    </tr>\n",
       "  </thead>\n",
       "  <tbody>\n",
       "    <tr>\n",
       "      <th>0</th>\n",
       "      <td>加權指數(%5ETWII) (跌)</td>\n",
       "      <td>19,527.12</td>\n",
       "      <td>19,992.06</td>\n",
       "      <td>19,992.06</td>\n",
       "      <td>19,291.88</td>\n",
       "      <td>-</td>\n",
       "      <td>7,059.98</td>\n",
       "      <td>20,301.20</td>\n",
       "      <td>3.81%</td>\n",
       "      <td>774.08</td>\n",
       "      <td>14,122,522</td>\n",
       "      <td>0</td>\n",
       "      <td>3.45%</td>\n",
       "    </tr>\n",
       "    <tr>\n",
       "      <th>1</th>\n",
       "      <td>合庫金(5880) (跌)</td>\n",
       "      <td>25.60</td>\n",
       "      <td>25.65</td>\n",
       "      <td>25.90</td>\n",
       "      <td>25.45</td>\n",
       "      <td>25.59</td>\n",
       "      <td>5.90</td>\n",
       "      <td>25.85</td>\n",
       "      <td>0.97%</td>\n",
       "      <td>0.25</td>\n",
       "      <td>23,077</td>\n",
       "      <td>10,187</td>\n",
       "      <td>1.74%</td>\n",
       "    </tr>\n",
       "    <tr>\n",
       "      <th>2</th>\n",
       "      <td>元大美債20年(00679B) (漲)</td>\n",
       "      <td>29.01</td>\n",
       "      <td>28.76</td>\n",
       "      <td>29.28</td>\n",
       "      <td>28.75</td>\n",
       "      <td>29.05</td>\n",
       "      <td>23.00</td>\n",
       "      <td>28.78</td>\n",
       "      <td>0.80%</td>\n",
       "      <td>0.23</td>\n",
       "      <td>79,172</td>\n",
       "      <td>31,600</td>\n",
       "      <td>1.84%</td>\n",
       "    </tr>\n",
       "    <tr>\n",
       "      <th>3</th>\n",
       "      <td>元大台灣高息低波(00713) (跌)</td>\n",
       "      <td>54.40</td>\n",
       "      <td>54.85</td>\n",
       "      <td>54.85</td>\n",
       "      <td>53.60</td>\n",
       "      <td>54.29</td>\n",
       "      <td>6.42</td>\n",
       "      <td>55.20</td>\n",
       "      <td>1.45%</td>\n",
       "      <td>0.80</td>\n",
       "      <td>11,829</td>\n",
       "      <td>5,262</td>\n",
       "      <td>2.26%</td>\n",
       "    </tr>\n",
       "    <tr>\n",
       "      <th>4</th>\n",
       "      <td>永豐優息存股(00907) (跌)</td>\n",
       "      <td>14.86</td>\n",
       "      <td>14.96</td>\n",
       "      <td>15.00</td>\n",
       "      <td>14.76</td>\n",
       "      <td>14.89</td>\n",
       "      <td>0.970</td>\n",
       "      <td>15.01</td>\n",
       "      <td>1.00%</td>\n",
       "      <td>0.15</td>\n",
       "      <td>6,513</td>\n",
       "      <td>3,053</td>\n",
       "      <td>1.60%</td>\n",
       "    </tr>\n",
       "  </tbody>\n",
       "</table>\n",
       "</div>"
      ],
      "text/plain": [
       "                    名稱         成交         開盤         最高         最低     均價  \\\n",
       "0    加權指數(%5ETWII) (跌)  19,527.12  19,992.06  19,992.06  19,291.88      -   \n",
       "1        合庫金(5880) (跌)      25.60      25.65      25.90      25.45  25.59   \n",
       "2  元大美債20年(00679B) (漲)      29.01      28.76      29.28      28.75  29.05   \n",
       "3  元大台灣高息低波(00713) (跌)      54.40      54.85      54.85      53.60  54.29   \n",
       "4    永豐優息存股(00907) (跌)      14.86      14.96      15.00      14.76  14.89   \n",
       "\n",
       "    成交金額(億)         昨收    漲跌幅      漲跌          總量      昨量     振幅  \n",
       "0  7,059.98  20,301.20  3.81%  774.08  14,122,522       0  3.45%  \n",
       "1      5.90      25.85  0.97%    0.25      23,077  10,187  1.74%  \n",
       "2     23.00      28.78  0.80%    0.23      79,172  31,600  1.84%  \n",
       "3      6.42      55.20  1.45%    0.80      11,829   5,262  2.26%  \n",
       "4     0.970      15.01  1.00%    0.15       6,513   3,053  1.60%  "
      ]
     },
     "execution_count": 21,
     "metadata": {},
     "output_type": "execute_result"
    }
   ],
   "source": [
    "import pandas as pd\n",
    "df = pd.DataFrame(columns=column_names, data=stock_datas)\n",
    "df"
   ]
  },
  {
   "cell_type": "code",
   "execution_count": null,
   "metadata": {},
   "outputs": [],
   "source": [
    "name_list = []"
   ]
  },
  {
   "cell_type": "code",
   "execution_count": 66,
   "metadata": {},
   "outputs": [
    {
     "data": {
      "text/plain": [
       "'合庫金(5880)'"
      ]
     },
     "execution_count": 66,
     "metadata": {},
     "output_type": "execute_result"
    }
   ],
   "source": [
    "stock_datas[1][0]"
   ]
  },
  {
   "cell_type": "code",
   "execution_count": 71,
   "metadata": {},
   "outputs": [],
   "source": [
    "f = open(\"README.md\", \"w\",encoding='UTF-8')\n",
    "f.write('| 名稱 | 成交 | 開盤 | 最高 | 最低 | 均價 | 成交金額(億) | 昨收 | 漲跌幅 | 漲跌 | 總量 | 昨量 | 振幅 |\\n')\n",
    "f.write('| -------- | -------- | -------- | -------- |-------- | -------- | -------- |-------- |-------- |-------- | -------- | -------- |-------- |\\n')\n",
    "for x in stock_datas:\n",
    "    f.write('|')\n",
    "    for y in x:\n",
    "        f.write(y+'|')\n",
    "    f.write('\\n')\n",
    "f.close()"
   ]
  }
 ],
 "metadata": {
  "kernelspec": {
   "display_name": "Python 3",
   "language": "python",
   "name": "python3"
  },
  "language_info": {
   "codemirror_mode": {
    "name": "ipython",
    "version": 3
   },
   "file_extension": ".py",
   "mimetype": "text/x-python",
   "name": "python",
   "nbconvert_exporter": "python",
   "pygments_lexer": "ipython3",
   "version": "3.8.1"
  }
 },
 "nbformat": 4,
 "nbformat_minor": 2
}
