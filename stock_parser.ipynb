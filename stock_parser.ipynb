{
 "cells": [
  {
   "cell_type": "code",
   "execution_count": 9,
   "metadata": {},
   "outputs": [
    {
     "data": {
      "text/plain": [
       "[<span class=\"C(#232a31) Fz(16px)--mobile Fz(14px)\">成交</span>,\n",
       " <span class=\"Fw(600) Fz(16px)--mobile Fz(14px) D(f) Ai(c)\">15.15</span>]"
      ]
     },
     "execution_count": 9,
     "metadata": {},
     "output_type": "execute_result"
    }
   ],
   "source": [
    "import requests as req\n",
    "from bs4 import BeautifulSoup\n",
    "# 指定要抓取的網頁URL\n",
    "url = \"https://tw.stock.yahoo.com/quote/00907.TW\"\n",
    "headers = {'User-Agent': 'Mozilla/5.0 (Macintosh; Intel Mac OS X 10_11_5) AppleWebKit/537.36 (KHTML, like Gecko) Chrome/50.0.2661.102 Safari/537.36'}\n",
    "# 使用requests.get() 來得到網頁回傳內容\n",
    "r = req.get(url,headers=headers)\n",
    " \n",
    "# request.get()回傳的是一個物件 \n",
    "# 若抓成功(即r.status_code==200), 則網頁原始碼會放在物件的text屬性, 我們把它存在一個變數 'web_content'\n",
    "web_content = r.text\n",
    "soup = BeautifulSoup(web_content, 'html.parser')\n",
    "close_price_title = soup.find_all('li', class_=\"price-detail-item\")\n",
    "\n",
    "close_price_title[0].find_all('span')"
   ]
  },
  {
   "cell_type": "code",
   "execution_count": 10,
   "metadata": {},
   "outputs": [
    {
     "name": "stdout",
     "output_type": "stream",
     "text": [
      "成交 15.15\n",
      "開盤 15.11\n",
      "最高 15.17\n",
      "最低 15.09\n",
      "均價 15.14\n",
      "成交金額(億) 0.284\n",
      "昨收 15.15\n",
      "漲跌幅 0.00%\n",
      "漲跌 0.00\n",
      "總量 1,875\n",
      "昨量 2,074\n",
      "振幅 0.53%\n"
     ]
    }
   ],
   "source": [
    "for x in close_price_title:\n",
    "    print(x.find_all('span')[0].text, x.find_all('span')[1].text)"
   ]
  }
 ],
 "metadata": {
  "kernelspec": {
   "display_name": "Python 3",
   "language": "python",
   "name": "python3"
  },
  "language_info": {
   "codemirror_mode": {
    "name": "ipython",
    "version": 3
   },
   "file_extension": ".py",
   "mimetype": "text/x-python",
   "name": "python",
   "nbconvert_exporter": "python",
   "pygments_lexer": "ipython3",
   "version": "3.7.4"
  }
 },
 "nbformat": 4,
 "nbformat_minor": 2
}
