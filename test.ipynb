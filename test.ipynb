{
 "cells": [
  {
   "cell_type": "code",
   "execution_count": 16,
   "metadata": {},
   "outputs": [],
   "source": [
    "# 導入twstock及pandas模組，pandas模組縮寫為pd\n",
    "import twstock\n",
    "import pandas as pd\n",
    "\n",
    "def function (stock_id,year,month):\n",
    "     #股票代號變數 stock_id\n",
    "    stock = twstock.Stock(stock_id)  #告訴twstock我們要查詢的股票\n",
    "    target_price = stock.fetch_from(year,month) #取用2024/04至今每天的交易資料\n",
    "    name_attribute = [ #幫收集到的資料設定表頭\n",
    "        'Date', 'Capacity', 'Turnover', 'Open', 'High', 'Low', 'Close', 'Change',\n",
    "        'Transcation'\n",
    "    ]\n",
    "    df = pd.DataFrame(columns=name_attribute, data=target_price) #將twstock抓到的清單轉成Data Frame格式的資料表\n",
    "    return df\n"
   ]
  }
 ],
 "metadata": {
  "kernelspec": {
   "display_name": "Python 3",
   "language": "python",
   "name": "python3"
  },
  "language_info": {
   "codemirror_mode": {
    "name": "ipython",
    "version": 3
   },
   "file_extension": ".py",
   "mimetype": "text/x-python",
   "name": "python",
   "nbconvert_exporter": "python",
   "pygments_lexer": "ipython3",
   "version": "3.7.4"
  }
 },
 "nbformat": 4,
 "nbformat_minor": 2
}
